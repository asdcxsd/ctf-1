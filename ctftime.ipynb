{
 "cells": [
  {
   "cell_type": "markdown",
   "metadata": {},
   "source": [
    "# Stats about https://ctftime.org"
   ]
  },
  {
   "cell_type": "code",
   "execution_count": 1,
   "metadata": {},
   "outputs": [
    {
     "data": {
      "text/plain": [
       "datetime.datetime(2022, 5, 9, 21, 37, 4, 368901)"
      ]
     },
     "execution_count": 1,
     "metadata": {},
     "output_type": "execute_result"
    }
   ],
   "source": [
    "import datetime\n",
    "datetime.datetime.now()"
   ]
  },
  {
   "cell_type": "markdown",
   "metadata": {},
   "source": [
    "## Top rated CTFs"
   ]
  },
  {
   "cell_type": "code",
   "execution_count": 2,
   "metadata": {},
   "outputs": [
    {
     "name": "stdout",
     "output_type": "stream",
     "text": [
      "Requirement already satisfied: lxml in /usr/local/hvn/py3/lib/python3.8/site-packages (4.6.3)\r\n"
     ]
    }
   ],
   "source": [
    "!pip install lxml"
   ]
  },
  {
   "cell_type": "code",
   "execution_count": 3,
   "metadata": {},
   "outputs": [
    {
     "name": "stdout",
     "output_type": "stream",
     "text": [
      "Requirement already satisfied: html5lib in /usr/local/hvn/py3/lib/python3.8/site-packages (1.1)\r\n",
      "Requirement already satisfied: webencodings in /usr/local/hvn/py3/lib/python3.8/site-packages (from html5lib) (0.5.1)\r\n",
      "Requirement already satisfied: six>=1.9 in /usr/local/hvn/py3/lib/python3.8/site-packages (from html5lib) (1.16.0)\r\n"
     ]
    }
   ],
   "source": [
    "!pip install html5lib"
   ]
  },
  {
   "cell_type": "code",
   "execution_count": 4,
   "metadata": {},
   "outputs": [],
   "source": [
    "import pandas as pd"
   ]
  },
  {
   "cell_type": "code",
   "execution_count": 5,
   "metadata": {},
   "outputs": [],
   "source": [
    "import requests"
   ]
  },
  {
   "cell_type": "code",
   "execution_count": 6,
   "metadata": {},
   "outputs": [],
   "source": [
    "ff_header = {'User-Agent': 'Mozilla/5.0 (X11; Ubuntu; Linux x86_64; rv:99.0) Gecko/20100101 Firefox/99.0'}"
   ]
  },
  {
   "cell_type": "code",
   "execution_count": 7,
   "metadata": {},
   "outputs": [],
   "source": [
    "r = requests.get(\n",
    "    'https://ctftime.org/ctfs',\n",
    "    headers=ff_header)"
   ]
  },
  {
   "cell_type": "code",
   "execution_count": 8,
   "metadata": {},
   "outputs": [],
   "source": [
    "import bs4"
   ]
  },
  {
   "cell_type": "code",
   "execution_count": 9,
   "metadata": {},
   "outputs": [],
   "source": [
    "tree = bs4.BeautifulSoup(markup=r.text)"
   ]
  },
  {
   "cell_type": "code",
   "execution_count": 10,
   "metadata": {},
   "outputs": [],
   "source": [
    "tiles = tree.find_all('li', attrs={'class': \"span4 ctf-tile\"})"
   ]
  },
  {
   "cell_type": "code",
   "execution_count": 11,
   "metadata": {},
   "outputs": [],
   "source": [
    "tile = tiles[0]"
   ]
  },
  {
   "cell_type": "code",
   "execution_count": 12,
   "metadata": {},
   "outputs": [
    {
     "data": {
      "text/plain": [
       "'\\nOfficial URL\\nTotal events: 18\\nAvg weight: 39.79'"
      ]
     },
     "execution_count": 12,
     "metadata": {},
     "output_type": "execute_result"
    }
   ],
   "source": [
    "tile.find('p').text"
   ]
  },
  {
   "cell_type": "code",
   "execution_count": 13,
   "metadata": {
    "scrolled": true
   },
   "outputs": [],
   "source": [
    "data = []\n",
    "for tile in tiles:\n",
    "    title = tile.find('a').text\n",
    "\n",
    "    *_, events, avg_weight = tile.find('p').text.strip().splitlines()\n",
    "    # print(title, avg_weight, events)\n",
    "\n",
    "    data.append((title, float(avg_weight.split(':')[-1]), int(events.split(':')[-1])))"
   ]
  },
  {
   "cell_type": "code",
   "execution_count": 14,
   "metadata": {},
   "outputs": [
    {
     "data": {
      "text/html": [
       "<div>\n",
       "<style scoped>\n",
       "    .dataframe tbody tr th:only-of-type {\n",
       "        vertical-align: middle;\n",
       "    }\n",
       "\n",
       "    .dataframe tbody tr th {\n",
       "        vertical-align: top;\n",
       "    }\n",
       "\n",
       "    .dataframe thead th {\n",
       "        text-align: right;\n",
       "    }\n",
       "</style>\n",
       "<table border=\"1\" class=\"dataframe\">\n",
       "  <thead>\n",
       "    <tr style=\"text-align: right;\">\n",
       "      <th></th>\n",
       "      <th>name</th>\n",
       "      <th>avg_weight</th>\n",
       "      <th>events</th>\n",
       "    </tr>\n",
       "  </thead>\n",
       "  <tbody>\n",
       "    <tr>\n",
       "      <th>0</th>\n",
       "      <td>SECCON CTF</td>\n",
       "      <td>39.79</td>\n",
       "      <td>18</td>\n",
       "    </tr>\n",
       "    <tr>\n",
       "      <th>1</th>\n",
       "      <td>UCSB iCTF</td>\n",
       "      <td>46.30</td>\n",
       "      <td>16</td>\n",
       "    </tr>\n",
       "    <tr>\n",
       "      <th>2</th>\n",
       "      <td>Insomni'hack</td>\n",
       "      <td>38.00</td>\n",
       "      <td>16</td>\n",
       "    </tr>\n",
       "    <tr>\n",
       "      <th>3</th>\n",
       "      <td>0CTF</td>\n",
       "      <td>72.79</td>\n",
       "      <td>14</td>\n",
       "    </tr>\n",
       "    <tr>\n",
       "      <th>4</th>\n",
       "      <td>Trend Micro CTF - Raimund Genes Cup</td>\n",
       "      <td>22.42</td>\n",
       "      <td>14</td>\n",
       "    </tr>\n",
       "  </tbody>\n",
       "</table>\n",
       "</div>"
      ],
      "text/plain": [
       "                                  name  avg_weight  events\n",
       "0                           SECCON CTF       39.79      18\n",
       "1                            UCSB iCTF       46.30      16\n",
       "2                         Insomni'hack       38.00      16\n",
       "3                                 0CTF       72.79      14\n",
       "4  Trend Micro CTF - Raimund Genes Cup       22.42      14"
      ]
     },
     "execution_count": 14,
     "metadata": {},
     "output_type": "execute_result"
    }
   ],
   "source": [
    "df = pd.DataFrame(data=data,\n",
    "                 columns=['name', 'avg_weight', 'events'])\n",
    "df.head()"
   ]
  },
  {
   "cell_type": "code",
   "execution_count": 15,
   "metadata": {},
   "outputs": [
    {
     "data": {
      "text/html": [
       "<div>\n",
       "<style scoped>\n",
       "    .dataframe tbody tr th:only-of-type {\n",
       "        vertical-align: middle;\n",
       "    }\n",
       "\n",
       "    .dataframe tbody tr th {\n",
       "        vertical-align: top;\n",
       "    }\n",
       "\n",
       "    .dataframe thead th {\n",
       "        text-align: right;\n",
       "    }\n",
       "</style>\n",
       "<table border=\"1\" class=\"dataframe\">\n",
       "  <thead>\n",
       "    <tr style=\"text-align: right;\">\n",
       "      <th></th>\n",
       "      <th>name</th>\n",
       "      <th>avg_weight</th>\n",
       "      <th>events</th>\n",
       "    </tr>\n",
       "  </thead>\n",
       "  <tbody>\n",
       "    <tr>\n",
       "      <th>1</th>\n",
       "      <td>UCSB iCTF</td>\n",
       "      <td>46.30</td>\n",
       "      <td>16</td>\n",
       "    </tr>\n",
       "    <tr>\n",
       "      <th>17</th>\n",
       "      <td>Codegate CTF Preliminary</td>\n",
       "      <td>46.54</td>\n",
       "      <td>10</td>\n",
       "    </tr>\n",
       "    <tr>\n",
       "      <th>62</th>\n",
       "      <td>SECUINSIDE CTF Quals</td>\n",
       "      <td>47.35</td>\n",
       "      <td>5</td>\n",
       "    </tr>\n",
       "    <tr>\n",
       "      <th>43</th>\n",
       "      <td>CTFZone</td>\n",
       "      <td>47.67</td>\n",
       "      <td>7</td>\n",
       "    </tr>\n",
       "    <tr>\n",
       "      <th>71</th>\n",
       "      <td>EKOPARTY CTF</td>\n",
       "      <td>47.88</td>\n",
       "      <td>5</td>\n",
       "    </tr>\n",
       "    <tr>\n",
       "      <th>98</th>\n",
       "      <td>N1CTF</td>\n",
       "      <td>47.91</td>\n",
       "      <td>4</td>\n",
       "    </tr>\n",
       "    <tr>\n",
       "      <th>36</th>\n",
       "      <td>bi0sCTF</td>\n",
       "      <td>48.23</td>\n",
       "      <td>7</td>\n",
       "    </tr>\n",
       "    <tr>\n",
       "      <th>38</th>\n",
       "      <td>ångstromCTF</td>\n",
       "      <td>49.82</td>\n",
       "      <td>7</td>\n",
       "    </tr>\n",
       "    <tr>\n",
       "      <th>19</th>\n",
       "      <td>ASIS CTF Quals</td>\n",
       "      <td>51.13</td>\n",
       "      <td>10</td>\n",
       "    </tr>\n",
       "    <tr>\n",
       "      <th>119</th>\n",
       "      <td>RuCTF Quals</td>\n",
       "      <td>53.33</td>\n",
       "      <td>3</td>\n",
       "    </tr>\n",
       "    <tr>\n",
       "      <th>12</th>\n",
       "      <td>Dragon CTF</td>\n",
       "      <td>55.20</td>\n",
       "      <td>12</td>\n",
       "    </tr>\n",
       "    <tr>\n",
       "      <th>39</th>\n",
       "      <td>FAUST CTF</td>\n",
       "      <td>55.39</td>\n",
       "      <td>7</td>\n",
       "    </tr>\n",
       "    <tr>\n",
       "      <th>54</th>\n",
       "      <td>Pwn2Win CTF</td>\n",
       "      <td>56.43</td>\n",
       "      <td>6</td>\n",
       "    </tr>\n",
       "    <tr>\n",
       "      <th>22</th>\n",
       "      <td>Codegate CTF Finals</td>\n",
       "      <td>59.17</td>\n",
       "      <td>9</td>\n",
       "    </tr>\n",
       "    <tr>\n",
       "      <th>122</th>\n",
       "      <td>SECUINSIDE CTF Finals</td>\n",
       "      <td>60.00</td>\n",
       "      <td>3</td>\n",
       "    </tr>\n",
       "    <tr>\n",
       "      <th>120</th>\n",
       "      <td>rwthCTF</td>\n",
       "      <td>60.00</td>\n",
       "      <td>3</td>\n",
       "    </tr>\n",
       "    <tr>\n",
       "      <th>25</th>\n",
       "      <td>ASIS CTF Finals</td>\n",
       "      <td>60.01</td>\n",
       "      <td>9</td>\n",
       "    </tr>\n",
       "    <tr>\n",
       "      <th>63</th>\n",
       "      <td>Boston Key Party CTF</td>\n",
       "      <td>60.01</td>\n",
       "      <td>5</td>\n",
       "    </tr>\n",
       "    <tr>\n",
       "      <th>20</th>\n",
       "      <td>Google Capture The Flag</td>\n",
       "      <td>63.64</td>\n",
       "      <td>10</td>\n",
       "    </tr>\n",
       "    <tr>\n",
       "      <th>40</th>\n",
       "      <td>hxp CTF</td>\n",
       "      <td>63.86</td>\n",
       "      <td>7</td>\n",
       "    </tr>\n",
       "    <tr>\n",
       "      <th>47</th>\n",
       "      <td>Ghost in the Shellcode</td>\n",
       "      <td>65.00</td>\n",
       "      <td>6</td>\n",
       "    </tr>\n",
       "    <tr>\n",
       "      <th>11</th>\n",
       "      <td>HITCON CTF</td>\n",
       "      <td>67.30</td>\n",
       "      <td>12</td>\n",
       "    </tr>\n",
       "    <tr>\n",
       "      <th>24</th>\n",
       "      <td>C3CTF</td>\n",
       "      <td>67.86</td>\n",
       "      <td>9</td>\n",
       "    </tr>\n",
       "    <tr>\n",
       "      <th>3</th>\n",
       "      <td>0CTF</td>\n",
       "      <td>72.79</td>\n",
       "      <td>14</td>\n",
       "    </tr>\n",
       "    <tr>\n",
       "      <th>8</th>\n",
       "      <td>RuCTF</td>\n",
       "      <td>74.30</td>\n",
       "      <td>12</td>\n",
       "    </tr>\n",
       "    <tr>\n",
       "      <th>13</th>\n",
       "      <td>Hack.lu CTF</td>\n",
       "      <td>75.70</td>\n",
       "      <td>11</td>\n",
       "    </tr>\n",
       "    <tr>\n",
       "      <th>53</th>\n",
       "      <td>TokyoWesterns/MMA CTF</td>\n",
       "      <td>78.06</td>\n",
       "      <td>6</td>\n",
       "    </tr>\n",
       "    <tr>\n",
       "      <th>6</th>\n",
       "      <td>DEF CON CTF Qualifier</td>\n",
       "      <td>81.14</td>\n",
       "      <td>12</td>\n",
       "    </tr>\n",
       "    <tr>\n",
       "      <th>7</th>\n",
       "      <td>DEF CON CTF</td>\n",
       "      <td>82.60</td>\n",
       "      <td>12</td>\n",
       "    </tr>\n",
       "    <tr>\n",
       "      <th>9</th>\n",
       "      <td>PlaidCTF</td>\n",
       "      <td>89.17</td>\n",
       "      <td>12</td>\n",
       "    </tr>\n",
       "  </tbody>\n",
       "</table>\n",
       "</div>"
      ],
      "text/plain": [
       "                         name  avg_weight  events\n",
       "1                   UCSB iCTF       46.30      16\n",
       "17   Codegate CTF Preliminary       46.54      10\n",
       "62       SECUINSIDE CTF Quals       47.35       5\n",
       "43                    CTFZone       47.67       7\n",
       "71               EKOPARTY CTF       47.88       5\n",
       "98                      N1CTF       47.91       4\n",
       "36                    bi0sCTF       48.23       7\n",
       "38                ångstromCTF       49.82       7\n",
       "19            ASIS CTF Quals        51.13      10\n",
       "119               RuCTF Quals       53.33       3\n",
       "12                 Dragon CTF       55.20      12\n",
       "39                  FAUST CTF       55.39       7\n",
       "54                Pwn2Win CTF       56.43       6\n",
       "22        Codegate CTF Finals       59.17       9\n",
       "122     SECUINSIDE CTF Finals       60.00       3\n",
       "120                   rwthCTF       60.00       3\n",
       "25            ASIS CTF Finals       60.01       9\n",
       "63       Boston Key Party CTF       60.01       5\n",
       "20    Google Capture The Flag       63.64      10\n",
       "40                    hxp CTF       63.86       7\n",
       "47     Ghost in the Shellcode       65.00       6\n",
       "11                 HITCON CTF       67.30      12\n",
       "24                      C3CTF       67.86       9\n",
       "3                        0CTF       72.79      14\n",
       "8                       RuCTF       74.30      12\n",
       "13                Hack.lu CTF       75.70      11\n",
       "53      TokyoWesterns/MMA CTF       78.06       6\n",
       "6       DEF CON CTF Qualifier       81.14      12\n",
       "7                 DEF CON CTF       82.60      12\n",
       "9                    PlaidCTF       89.17      12"
      ]
     },
     "execution_count": 15,
     "metadata": {},
     "output_type": "execute_result"
    }
   ],
   "source": [
    "df.sort_values('avg_weight').tail(30)"
   ]
  },
  {
   "cell_type": "code",
   "execution_count": 16,
   "metadata": {
    "scrolled": true
   },
   "outputs": [
    {
     "data": {
      "text/html": [
       "<div>\n",
       "<style scoped>\n",
       "    .dataframe tbody tr th:only-of-type {\n",
       "        vertical-align: middle;\n",
       "    }\n",
       "\n",
       "    .dataframe tbody tr th {\n",
       "        vertical-align: top;\n",
       "    }\n",
       "\n",
       "    .dataframe thead th {\n",
       "        text-align: right;\n",
       "    }\n",
       "</style>\n",
       "<table border=\"1\" class=\"dataframe\">\n",
       "  <thead>\n",
       "    <tr style=\"text-align: right;\">\n",
       "      <th></th>\n",
       "      <th>name</th>\n",
       "      <th>avg_weight</th>\n",
       "      <th>events</th>\n",
       "    </tr>\n",
       "  </thead>\n",
       "  <tbody>\n",
       "    <tr>\n",
       "      <th>0</th>\n",
       "      <td>SECCON CTF</td>\n",
       "      <td>39.79</td>\n",
       "      <td>18</td>\n",
       "    </tr>\n",
       "    <tr>\n",
       "      <th>1</th>\n",
       "      <td>UCSB iCTF</td>\n",
       "      <td>46.30</td>\n",
       "      <td>16</td>\n",
       "    </tr>\n",
       "    <tr>\n",
       "      <th>2</th>\n",
       "      <td>Insomni'hack</td>\n",
       "      <td>38.00</td>\n",
       "      <td>16</td>\n",
       "    </tr>\n",
       "    <tr>\n",
       "      <th>3</th>\n",
       "      <td>0CTF</td>\n",
       "      <td>72.79</td>\n",
       "      <td>14</td>\n",
       "    </tr>\n",
       "    <tr>\n",
       "      <th>4</th>\n",
       "      <td>Trend Micro CTF - Raimund Genes Cup</td>\n",
       "      <td>22.42</td>\n",
       "      <td>14</td>\n",
       "    </tr>\n",
       "    <tr>\n",
       "      <th>5</th>\n",
       "      <td>RuCTF Finals</td>\n",
       "      <td>31.43</td>\n",
       "      <td>13</td>\n",
       "    </tr>\n",
       "    <tr>\n",
       "      <th>6</th>\n",
       "      <td>DEF CON CTF Qualifier</td>\n",
       "      <td>81.14</td>\n",
       "      <td>12</td>\n",
       "    </tr>\n",
       "    <tr>\n",
       "      <th>7</th>\n",
       "      <td>DEF CON CTF</td>\n",
       "      <td>82.60</td>\n",
       "      <td>12</td>\n",
       "    </tr>\n",
       "    <tr>\n",
       "      <th>8</th>\n",
       "      <td>RuCTF</td>\n",
       "      <td>74.30</td>\n",
       "      <td>12</td>\n",
       "    </tr>\n",
       "    <tr>\n",
       "      <th>9</th>\n",
       "      <td>PlaidCTF</td>\n",
       "      <td>89.17</td>\n",
       "      <td>12</td>\n",
       "    </tr>\n",
       "    <tr>\n",
       "      <th>10</th>\n",
       "      <td>CSAW CTF Qualification Round</td>\n",
       "      <td>36.92</td>\n",
       "      <td>12</td>\n",
       "    </tr>\n",
       "    <tr>\n",
       "      <th>11</th>\n",
       "      <td>HITCON CTF</td>\n",
       "      <td>67.30</td>\n",
       "      <td>12</td>\n",
       "    </tr>\n",
       "    <tr>\n",
       "      <th>12</th>\n",
       "      <td>Dragon CTF</td>\n",
       "      <td>55.20</td>\n",
       "      <td>12</td>\n",
       "    </tr>\n",
       "  </tbody>\n",
       "</table>\n",
       "</div>"
      ],
      "text/plain": [
       "                                   name  avg_weight  events\n",
       "0                            SECCON CTF       39.79      18\n",
       "1                             UCSB iCTF       46.30      16\n",
       "2                          Insomni'hack       38.00      16\n",
       "3                                  0CTF       72.79      14\n",
       "4   Trend Micro CTF - Raimund Genes Cup       22.42      14\n",
       "5                          RuCTF Finals       31.43      13\n",
       "6                 DEF CON CTF Qualifier       81.14      12\n",
       "7                           DEF CON CTF       82.60      12\n",
       "8                                 RuCTF       74.30      12\n",
       "9                              PlaidCTF       89.17      12\n",
       "10         CSAW CTF Qualification Round       36.92      12\n",
       "11                           HITCON CTF       67.30      12\n",
       "12                           Dragon CTF       55.20      12"
      ]
     },
     "execution_count": 16,
     "metadata": {},
     "output_type": "execute_result"
    }
   ],
   "source": [
    "df[df['events']>=12]"
   ]
  },
  {
   "cell_type": "code",
   "execution_count": 17,
   "metadata": {
    "scrolled": true
   },
   "outputs": [
    {
     "data": {
      "text/plain": [
       "array([[<AxesSubplot:title={'center':'avg_weight'}>,\n",
       "        <AxesSubplot:title={'center':'events'}>]], dtype=object)"
      ]
     },
     "execution_count": 17,
     "metadata": {},
     "output_type": "execute_result"
    },
    {
     "data": {
      "image/png": "[encoded data removed]",
      "text/plain": [
       "<Figure size 432x288 with 2 Axes>"
      ]
     },
     "metadata": {
      "needs_background": "light"
     },
     "output_type": "display_data"
    }
   ],
   "source": [
    "df.hist()"
   ]
  },
  {
   "cell_type": "code",
   "execution_count": 18,
   "metadata": {
    "scrolled": true
   },
   "outputs": [
    {
     "data": {
      "text/html": [
       "<div>\n",
       "<style scoped>\n",
       "    .dataframe tbody tr th:only-of-type {\n",
       "        vertical-align: middle;\n",
       "    }\n",
       "\n",
       "    .dataframe tbody tr th {\n",
       "        vertical-align: top;\n",
       "    }\n",
       "\n",
       "    .dataframe thead th {\n",
       "        text-align: right;\n",
       "    }\n",
       "</style>\n",
       "<table border=\"1\" class=\"dataframe\">\n",
       "  <thead>\n",
       "    <tr style=\"text-align: right;\">\n",
       "      <th></th>\n",
       "      <th>avg_weight</th>\n",
       "      <th>events</th>\n",
       "    </tr>\n",
       "  </thead>\n",
       "  <tbody>\n",
       "    <tr>\n",
       "      <th>count</th>\n",
       "      <td>200.00000</td>\n",
       "      <td>200.000000</td>\n",
       "    </tr>\n",
       "    <tr>\n",
       "      <th>mean</th>\n",
       "      <td>28.49520</td>\n",
       "      <td>5.060000</td>\n",
       "    </tr>\n",
       "    <tr>\n",
       "      <th>std</th>\n",
       "      <td>18.11877</td>\n",
       "      <td>3.155342</td>\n",
       "    </tr>\n",
       "    <tr>\n",
       "      <th>min</th>\n",
       "      <td>0.00000</td>\n",
       "      <td>2.000000</td>\n",
       "    </tr>\n",
       "    <tr>\n",
       "      <th>25%</th>\n",
       "      <td>19.78250</td>\n",
       "      <td>3.000000</td>\n",
       "    </tr>\n",
       "    <tr>\n",
       "      <th>50%</th>\n",
       "      <td>25.56000</td>\n",
       "      <td>4.000000</td>\n",
       "    </tr>\n",
       "    <tr>\n",
       "      <th>75%</th>\n",
       "      <td>36.12500</td>\n",
       "      <td>6.000000</td>\n",
       "    </tr>\n",
       "    <tr>\n",
       "      <th>max</th>\n",
       "      <td>89.17000</td>\n",
       "      <td>18.000000</td>\n",
       "    </tr>\n",
       "  </tbody>\n",
       "</table>\n",
       "</div>"
      ],
      "text/plain": [
       "       avg_weight      events\n",
       "count   200.00000  200.000000\n",
       "mean     28.49520    5.060000\n",
       "std      18.11877    3.155342\n",
       "min       0.00000    2.000000\n",
       "25%      19.78250    3.000000\n",
       "50%      25.56000    4.000000\n",
       "75%      36.12500    6.000000\n",
       "max      89.17000   18.000000"
      ]
     },
     "execution_count": 18,
     "metadata": {},
     "output_type": "execute_result"
    }
   ],
   "source": [
    "df.describe()"
   ]
  },
  {
   "cell_type": "markdown",
   "metadata": {},
   "source": [
    "## PYMI team\n",
    "\n",
    "CTF write-up https://github.com/pymivn/ctf\n",
    "\n",
    "https://ctftime.org/team/175619"
   ]
  },
  {
   "cell_type": "code",
   "execution_count": 20,
   "metadata": {},
   "outputs": [
    {
     "data": {
      "text/plain": [
       "<Response [200]>"
      ]
     },
     "execution_count": 20,
     "metadata": {},
     "output_type": "execute_result"
    }
   ],
   "source": [
    "rt = requests.get('https://ctftime.org/team/175619', \n",
    "                 headers=ff_header)\n",
    "rt"
   ]
  },
  {
   "cell_type": "code",
   "execution_count": 21,
   "metadata": {},
   "outputs": [
    {
     "data": {
      "text/html": [
       "<div>\n",
       "<style scoped>\n",
       "    .dataframe tbody tr th:only-of-type {\n",
       "        vertical-align: middle;\n",
       "    }\n",
       "\n",
       "    .dataframe tbody tr th {\n",
       "        vertical-align: top;\n",
       "    }\n",
       "\n",
       "    .dataframe thead th {\n",
       "        text-align: right;\n",
       "    }\n",
       "</style>\n",
       "<table border=\"1\" class=\"dataframe\">\n",
       "  <thead>\n",
       "    <tr style=\"text-align: right;\">\n",
       "      <th></th>\n",
       "      <th>Place</th>\n",
       "      <th>Place.1</th>\n",
       "      <th>Event</th>\n",
       "      <th>CTF points</th>\n",
       "      <th>Rating points</th>\n",
       "    </tr>\n",
       "  </thead>\n",
       "  <tbody>\n",
       "    <tr>\n",
       "      <th>0</th>\n",
       "      <td>NaN</td>\n",
       "      <td>29</td>\n",
       "      <td>San Diego CTF 2022</td>\n",
       "      <td>3640.0</td>\n",
       "      <td>10.036</td>\n",
       "    </tr>\n",
       "    <tr>\n",
       "      <th>1</th>\n",
       "      <td>NaN</td>\n",
       "      <td>140</td>\n",
       "      <td>ångstromCTF 2022</td>\n",
       "      <td>1510.0</td>\n",
       "      <td>18.171</td>\n",
       "    </tr>\n",
       "    <tr>\n",
       "      <th>2</th>\n",
       "      <td>NaN</td>\n",
       "      <td>45</td>\n",
       "      <td>NahamCon CTF 2022</td>\n",
       "      <td>8314.0</td>\n",
       "      <td>8.572</td>\n",
       "    </tr>\n",
       "    <tr>\n",
       "      <th>3</th>\n",
       "      <td>NaN</td>\n",
       "      <td>75</td>\n",
       "      <td>b01lers CTF</td>\n",
       "      <td>654.0</td>\n",
       "      <td>5.761</td>\n",
       "    </tr>\n",
       "    <tr>\n",
       "      <th>4</th>\n",
       "      <td>NaN</td>\n",
       "      <td>83</td>\n",
       "      <td>CrewCTF 2022</td>\n",
       "      <td>1212.0</td>\n",
       "      <td>1.297</td>\n",
       "    </tr>\n",
       "  </tbody>\n",
       "</table>\n",
       "</div>"
      ],
      "text/plain": [
       "   Place  Place.1               Event  CTF points  Rating points\n",
       "0    NaN       29  San Diego CTF 2022      3640.0         10.036\n",
       "1    NaN      140    ångstromCTF 2022      1510.0         18.171\n",
       "2    NaN       45   NahamCon CTF 2022      8314.0          8.572\n",
       "3    NaN       75         b01lers CTF       654.0          5.761\n",
       "4    NaN       83        CrewCTF 2022      1212.0          1.297"
      ]
     },
     "execution_count": 21,
     "metadata": {},
     "output_type": "execute_result"
    }
   ],
   "source": [
    "dft = pd.read_html(rt.text)[0]\n",
    "dft.head()"
   ]
  },
  {
   "cell_type": "code",
   "execution_count": 22,
   "metadata": {},
   "outputs": [
    {
     "data": {
      "text/html": [
       "<div>\n",
       "<style scoped>\n",
       "    .dataframe tbody tr th:only-of-type {\n",
       "        vertical-align: middle;\n",
       "    }\n",
       "\n",
       "    .dataframe tbody tr th {\n",
       "        vertical-align: top;\n",
       "    }\n",
       "\n",
       "    .dataframe thead th {\n",
       "        text-align: right;\n",
       "    }\n",
       "</style>\n",
       "<table border=\"1\" class=\"dataframe\">\n",
       "  <thead>\n",
       "    <tr style=\"text-align: right;\">\n",
       "      <th></th>\n",
       "      <th>Place.1</th>\n",
       "      <th>Event</th>\n",
       "      <th>CTF points</th>\n",
       "      <th>Rating points</th>\n",
       "    </tr>\n",
       "  </thead>\n",
       "  <tbody>\n",
       "    <tr>\n",
       "      <th>1</th>\n",
       "      <td>140</td>\n",
       "      <td>ångstromCTF 2022</td>\n",
       "      <td>1510.0</td>\n",
       "      <td>18.171</td>\n",
       "    </tr>\n",
       "    <tr>\n",
       "      <th>14</th>\n",
       "      <td>41</td>\n",
       "      <td>DefCamp CTF 21-22 Online</td>\n",
       "      <td>1208.0</td>\n",
       "      <td>11.179</td>\n",
       "    </tr>\n",
       "    <tr>\n",
       "      <th>0</th>\n",
       "      <td>29</td>\n",
       "      <td>San Diego CTF 2022</td>\n",
       "      <td>3640.0</td>\n",
       "      <td>10.036</td>\n",
       "    </tr>\n",
       "    <tr>\n",
       "      <th>2</th>\n",
       "      <td>45</td>\n",
       "      <td>NahamCon CTF 2022</td>\n",
       "      <td>8314.0</td>\n",
       "      <td>8.572</td>\n",
       "    </tr>\n",
       "    <tr>\n",
       "      <th>9</th>\n",
       "      <td>59</td>\n",
       "      <td>1337UP LIVE CTF</td>\n",
       "      <td>2815.0</td>\n",
       "      <td>6.084</td>\n",
       "    </tr>\n",
       "    <tr>\n",
       "      <th>3</th>\n",
       "      <td>75</td>\n",
       "      <td>b01lers CTF</td>\n",
       "      <td>654.0</td>\n",
       "      <td>5.761</td>\n",
       "    </tr>\n",
       "    <tr>\n",
       "      <th>13</th>\n",
       "      <td>54</td>\n",
       "      <td>VU CYBERTHON 2022</td>\n",
       "      <td>174.0</td>\n",
       "      <td>5.323</td>\n",
       "    </tr>\n",
       "    <tr>\n",
       "      <th>6</th>\n",
       "      <td>67</td>\n",
       "      <td>Space Heroes CTF</td>\n",
       "      <td>2367.0</td>\n",
       "      <td>5.230</td>\n",
       "    </tr>\n",
       "    <tr>\n",
       "      <th>8</th>\n",
       "      <td>96</td>\n",
       "      <td>zer0pts CTF 2022</td>\n",
       "      <td>386.0</td>\n",
       "      <td>2.792</td>\n",
       "    </tr>\n",
       "    <tr>\n",
       "      <th>16</th>\n",
       "      <td>66</td>\n",
       "      <td>TetCTF 2022</td>\n",
       "      <td>300.0</td>\n",
       "      <td>1.462</td>\n",
       "    </tr>\n",
       "  </tbody>\n",
       "</table>\n",
       "</div>"
      ],
      "text/plain": [
       "    Place.1                     Event  CTF points  Rating points\n",
       "1       140          ångstromCTF 2022      1510.0         18.171\n",
       "14       41  DefCamp CTF 21-22 Online      1208.0         11.179\n",
       "0        29        San Diego CTF 2022      3640.0         10.036\n",
       "2        45         NahamCon CTF 2022      8314.0          8.572\n",
       "9        59           1337UP LIVE CTF      2815.0          6.084\n",
       "3        75               b01lers CTF       654.0          5.761\n",
       "13       54         VU CYBERTHON 2022       174.0          5.323\n",
       "6        67          Space Heroes CTF      2367.0          5.230\n",
       "8        96          zer0pts CTF 2022       386.0          2.792\n",
       "16       66               TetCTF 2022       300.0          1.462"
      ]
     },
     "execution_count": 22,
     "metadata": {},
     "output_type": "execute_result"
    }
   ],
   "source": [
    "dft.drop(columns=['Place']).sort_values('Rating points', ascending=False)[:10]"
   ]
  },
  {
   "cell_type": "code",
   "execution_count": null,
   "metadata": {},
   "outputs": [],
   "source": []
  },
  {
   "cell_type": "code",
   "execution_count": null,
   "metadata": {},
   "outputs": [],
   "source": []
  }
 ],
 "metadata": {
  "kernelspec": {
   "display_name": "Python 3 (ipykernel)",
   "language": "python",
   "name": "python3"
  },
  "language_info": {
   "codemirror_mode": {
    "name": "ipython",
    "version": 3
   },
   "file_extension": ".py",
   "mimetype": "text/x-python",
   "name": "python",
   "nbconvert_exporter": "python",
   "pygments_lexer": "ipython3",
   "version": "3.8.10"
  }
 },
 "nbformat": 4,
 "nbformat_minor": 4
}
